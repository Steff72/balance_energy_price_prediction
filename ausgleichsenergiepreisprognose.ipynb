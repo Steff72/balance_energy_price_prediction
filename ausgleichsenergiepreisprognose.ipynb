{
 "cells": [
  {
   "cell_type": "markdown",
   "id": "58edb6e3",
   "metadata": {},
   "source": [
    "# Ausgleichsenergiepreisprognose\n",
    "Dieses Notebook sammelt Daten und entwickelt ein erstes Basismodell zur Vorhersage der Schweizer Ausgleichsenergiepreise."
   ]
  },
  {
   "cell_type": "markdown",
   "id": "0537bf7e",
   "metadata": {},
   "source": [
    "## Datenbeschaffung\n",
    "Die historischen positiven und negativen Ausgleichsenergiepreise werden monatlich von Swissgrid als Excel-Dateien bereitgestellt. Im Folgenden wird gezeigt, wie diese automatisch heruntergeladen und eingelesen werden k\u00f6nnen. Bei fehlender Internetverbindung wird ein Platzhalter erzeugt."
   ]
  },
  {
   "cell_type": "code",
   "execution_count": null,
   "id": "6d7c5cf4",
   "metadata": {},
   "outputs": [],
   "source": [
    "\n",
    "import pandas as pd\n",
    "from pathlib import Path\n",
    "import requests\n",
    "\n",
    "BASE_URL = \"https://www.swissgrid.ch/dam/swissgrid/current/Data/excel/balancingenergy/\"\n",
    "\n",
    "def download_monthly_price(year: int, month: int, folder: Path = Path('data')) -> Path:\n",
    "    folder.mkdir(exist_ok=True)\n",
    "    filename = folder / f\"{year}_{month:02d}_balancing_energy_prices.xlsx\"\n",
    "    url = f\"{BASE_URL}{year}/{month:02d}/balancing_energy_prices_{year}_{month:02d}.xlsx\"\n",
    "    try:\n",
    "        r = requests.get(url)\n",
    "        r.raise_for_status()\n",
    "        filename.write_bytes(r.content)\n",
    "        print(f\"Downloaded {filename}\")\n",
    "    except Exception as e:\n",
    "        print(f\"Could not download {url}: {e}\n",
    "Generating fake data instead.\")\n",
    "        dummy = pd.DataFrame({\n",
    "            'Time': pd.date_range(f\"{year}-{month:02d}-01\", periods=96, freq='15min'),\n",
    "            'PositivePrice': 0.0,\n",
    "            'NegativePrice': 0.0\n",
    "        })\n",
    "        dummy.to_excel(filename, index=False)\n",
    "    return filename\n"
   ]
  },
  {
   "cell_type": "markdown",
   "id": "4bde04dc",
   "metadata": {},
   "source": [
    "Nach dem Herunterladen werden die Daten in einen DataFrame geladen:"
   ]
  },
  {
   "cell_type": "code",
   "execution_count": null,
   "id": "9e8b4140",
   "metadata": {},
   "outputs": [],
   "source": [
    "\n",
    "def load_price_file(path: Path) -> pd.DataFrame:\n",
    "    df = pd.read_excel(path)\n",
    "    df = df.rename(columns=str.strip)\n",
    "    df['Time'] = pd.to_datetime(df['Time'])\n",
    "    return df.set_index('Time')\n",
    "\n",
    "# Beispiel: Preisdatei fuer Januar 2024 herunterladen und einlesen\n",
    "file_path = download_monthly_price(2024, 1)\n",
    "prices = load_price_file(file_path)\n",
    "prices.head()\n"
   ]
  },
  {
   "cell_type": "markdown",
   "id": "274da372",
   "metadata": {},
   "source": [
    "## Feature Engineering\n",
    "Im Leitfaden sind zahlreiche potentielle Pr\u00e4diktoren genannt. F\u00fcr den Start erzeugen wir einfache Zeitfeatures und Lag-Variablen."
   ]
  },
  {
   "cell_type": "code",
   "execution_count": null,
   "id": "93a2c3fa",
   "metadata": {},
   "outputs": [],
   "source": [
    "\n",
    "def add_basic_features(df: pd.DataFrame) -> pd.DataFrame:\n",
    "    df = df.copy()\n",
    "    df['hour'] = df.index.hour\n",
    "    df['weekday'] = df.index.weekday\n",
    "    df['month'] = df.index.month\n",
    "    df['dayofyear'] = df.index.dayofyear\n",
    "    df['lag_price'] = df['PositivePrice'].shift(1)\n",
    "    df['rolling_mean_24h'] = df['PositivePrice'].rolling(window=24).mean()\n",
    "    df['rolling_std_24h'] = df['PositivePrice'].rolling(window=24).std()\n",
    "    return df\n",
    "\n",
    "features = add_basic_features(prices)\n",
    "features.dropna().head()\n"
   ]
  },
  {
   "cell_type": "markdown",
   "id": "2f174447",
   "metadata": {},
   "source": [
    "## Modellansatz\n",
    "F\u00fcr ein Minimalbeispiel verwenden wir ein Gradient Boosting Regressor auf Stundenbasis. Das Ziel ist der PositivePrice."
   ]
  },
  {
   "cell_type": "code",
   "execution_count": null,
   "id": "533f65eb",
   "metadata": {},
   "outputs": [],
   "source": [
    "\n",
    "from sklearn.model_selection import train_test_split\n",
    "from sklearn.metrics import mean_absolute_error\n",
    "from sklearn.ensemble import GradientBoostingRegressor\n",
    "\n",
    "X = features[['hour', 'weekday', 'month', 'dayofyear', 'lag_price', 'rolling_mean_24h', 'rolling_std_24h']].dropna()\n",
    "y = features.loc[X.index, 'PositivePrice']\n",
    "X_train, X_test, y_train, y_test = train_test_split(X, y, test_size=0.2, shuffle=False)\n",
    "model = GradientBoostingRegressor()\n",
    "model.fit(X_train, y_train)\n",
    "y_pred = model.predict(X_test)\n",
    "print('MAE:', mean_absolute_error(y_test, y_pred))\n"
   ]
  },
  {
   "cell_type": "markdown",
   "id": "af01d614",
   "metadata": {},
   "source": [
    "Das Notebook stellt damit eine erste Vorlage dar, die nach Verf\u00fcgbarkeit echter Daten weiter ausgebaut werden kann."
   ]
  }
 ],
 "metadata": {},
 "nbformat": 4,
 "nbformat_minor": 5
}
