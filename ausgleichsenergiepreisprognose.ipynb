{
 "cells": [
  {
   "cell_type": "markdown",
   "id": "58edb6e3",
   "metadata": {},
   "source": [
    "# Ausgleichsenergiepreisprognose\n",
    "Dieses Notebook sammelt Daten und entwickelt ein erstes Basismodell zur Vorhersage der Schweizer Ausgleichsenergiepreise."
   ]
  },
  {
   "cell_type": "markdown",
   "id": "0537bf7e",
   "metadata": {},
   "source": [
    "## Datenbeschaffung\n",
    "Die historischen positiven und negativen Ausgleichsenergiepreise werden monatlich von Swissgrid als Excel-Dateien bereitgestellt. Im Folgenden wird gezeigt, wie diese automatisch heruntergeladen und eingelesen werden k\u00f6nnen. Bei fehlender Internetverbindung wird ein Platzhalter erzeugt."
   ]
  },
  {
   "cell_type": "code",
   "execution_count": null,
   "id": "6d7c5cf4",
   "metadata": {},
   "outputs": [],
   "source": [
    "\n",
    "import pandas as pd\n",
    "from pathlib import Path\n",
    "import requests\n",
    "\n",
    "BASE_URL = \"https://www.swissgrid.ch/dam/swissgrid/current/Data/excel/balancingenergy/\"\n",
    "\n",
    "def download_monthly_price(year: int, month: int, folder: Path = Path('data')) -> Path:\n",
    "    folder.mkdir(exist_ok=True)\n",
    "    filename = folder / f\"{year}_{month:02d}_balancing_energy_prices.xlsx\"\n",
    "    url = f\"{BASE_URL}{year}/{month:02d}/balancing_energy_prices_{year}_{month:02d}.xlsx\"\n",
    "    try:\n",
    "        r = requests.get(url)\n",
    "        r.raise_for_status()\n",
    "        filename.write_bytes(r.content)\n",
    "        print(f\"Downloaded {filename}\")\n",
    "    except Exception as e:\n",
    "        print(f\"Could not download {url}: {e}\n",
    "Generating fake data instead.\")\n",
    "        dummy = pd.DataFrame({\n",
    "            'Time': pd.date_range(f\"{year}-{month:02d}-01\", periods=96, freq='15min'),\n",
    "            'PositivePrice': 0.0,\n",
    "            'NegativePrice': 0.0\n",
    "        })\n",
    "        dummy.to_excel(filename, index=False)\n",
    "    return filename\n"
   ]
  },
  {
   "cell_type": "markdown",
   "id": "4bde04dc",
   "metadata": {},
   "source": [
    "Nach dem Herunterladen werden die Daten in einen DataFrame geladen:"
   ]
  },
  {
   "cell_type": "code",
   "execution_count": null,
   "id": "9e8b4140",
   "metadata": {},
   "outputs": [],
   "source": [
    "\n",
    "def load_price_file(path: Path) -> pd.DataFrame:\n",
    "    df = pd.read_excel(path)\n",
    "    df = df.rename(columns=str.strip)\n",
    "    df['Time'] = pd.to_datetime(df['Time'])\n",
    "    return df.set_index('Time')\n",
    "\n",
    "# Beispiel: Preisdatei fuer Januar 2024 herunterladen und einlesen\n",
    "file_path = download_monthly_price(2024, 1)\n",
    "prices = load_price_file(file_path)\n",
    "prices.head()\n"
   ]
  },
  {
   "cell_type": "markdown",
   "metadata": {},
   "source": "### Zus\u00e4tzliche Datenquellen\nUm weitere Kontextinformationen einzubeziehen, k\u00f6nnen ENTSO-E Lastdaten, Wetterdaten und Schweizer Feiertage geladen werden. Bei fehlenden Bibliotheken oder Token werden Dummy-Daten erzeugt."
  },
  {
   "cell_type": "code",
   "execution_count": null,
   "metadata": {},
   "outputs": [],
   "source": "\nfrom datetime import datetime, timedelta\nimport os\n\ntry:\n    from entsoe import EntsoePandasClient\nexcept ImportError:\n    EntsoePandasClient = None\n\ntry:\n    import holidays\nexcept ImportError:\n    holidays = None\n\n# ENTSO-E load data\n\ndef fetch_entsoe_load(start: datetime, end: datetime, token: str) -> pd.DataFrame:\n    if EntsoePandasClient is None:\n        raise RuntimeError('entsoe-py not installed')\n    client = EntsoePandasClient(api_key=token)\n    try:\n        load = client.query_load(country_code='CH', start=start, end=end)\n        load = load.rename('load')\n        return load.to_frame()\n    except Exception as e:\n        print(f'Could not download ENTSO-E data: {e}. Returning dummy data')\n        idx = pd.date_range(start, end, freq='H', inclusive='left')\n        return pd.DataFrame({'load': 0.0}, index=idx)\n\n# MeteoSchweiz (Open Meteo) weather data\n\ndef fetch_weather(start: datetime, end: datetime, lat: float, lon: float) -> pd.DataFrame:\n    url = (\n        'https://api.open-meteo.com/v1/forecast'\n        f'?latitude={lat}&longitude={lon}&hourly=temperature_2m,wind_speed_10m'\n        f'&start_date={start.date()}&end_date={end.date()}&timezone=UTC'\n    )\n    try:\n        r = requests.get(url)\n        r.raise_for_status()\n        data = r.json()\n        times = pd.to_datetime(data['hourly']['time'])\n        df = pd.DataFrame({'temperature': data['hourly']['temperature_2m'],\n                           'wind_speed': data['hourly']['wind_speed_10m']},\n                          index=times)\n        return df\n    except Exception as e:\n        print(f'Could not download weather data: {e}. Returning dummy data')\n        idx = pd.date_range(start, end, freq='H', inclusive='left')\n        return pd.DataFrame({'temperature': 0.0, 'wind_speed': 0.0}, index=idx)\n\n# Swiss holidays\n\ndef fetch_holidays(start: datetime, end: datetime) -> pd.DataFrame:\n    if holidays is None:\n        raise RuntimeError('holidays library not installed')\n    ch_holidays = holidays.CH(years=range(start.year, end.year + 1))\n    idx = pd.date_range(start, end, freq='D')\n    flags = [1 if day.date() in ch_holidays else 0 for day in idx]\n    return pd.DataFrame({'holiday': flags}, index=idx)\n"
  },
  {
   "cell_type": "code",
   "execution_count": null,
   "metadata": {},
   "outputs": [],
   "source": "\nstart = prices.index.min()\nend = prices.index.max() + pd.Timedelta(hours=1)\n\ntoken = os.getenv('ENTSOE_TOKEN', '')\nif token:\n    load = fetch_entsoe_load(start, end, token)\nelse:\n    print('ENTSOE_TOKEN not set. Using dummy load data')\n    load = fetch_entsoe_load(start, end, token)\n\nweather = fetch_weather(start, end, lat=46.8, lon=8.3)\nholidays_df = fetch_holidays(start, end)\n\n# Zusammenf\u00fchren auf Stundenbasis\nprices_h = prices.resample('H').mean()\ndata = prices_h.join(load, how='left').join(weather, how='left')\ndata = data.join(holidays_df, how='left')\ndata.head()\n"
  },
  {
   "cell_type": "markdown",
   "id": "274da372",
   "metadata": {},
   "source": [
    "## Feature Engineering\n",
    "Im Leitfaden sind zahlreiche potentielle Pr\u00e4diktoren genannt. F\u00fcr den Start erzeugen wir einfache Zeitfeatures und Lag-Variablen."
   ]
  },
  {
   "cell_type": "code",
   "execution_count": null,
   "id": "93a2c3fa",
   "metadata": {},
   "outputs": [],
   "source": [
    "\n",
    "def add_basic_features(df: pd.DataFrame) -> pd.DataFrame:\n",
    "    df = df.copy()\n",
    "    df['hour'] = df.index.hour\n",
    "    df['weekday'] = df.index.weekday\n",
    "    df['month'] = df.index.month\n",
    "    df['dayofyear'] = df.index.dayofyear\n",
    "    df['lag_price'] = df['PositivePrice'].shift(1)\n",
    "    df['rolling_mean_24h'] = df['PositivePrice'].rolling(window=24).mean()\n",
    "    df['rolling_std_24h'] = df['PositivePrice'].rolling(window=24).std()\n",
    "    return df\n",
    "\n",
    "features = add_basic_features(prices)\n",
    "features.dropna().head()\n"
   ]
  },
  {
   "cell_type": "markdown",
   "id": "2f174447",
   "metadata": {},
   "source": [
    "## Modellansatz\n",
    "F\u00fcr ein Minimalbeispiel verwenden wir ein Gradient Boosting Regressor auf Stundenbasis. Das Ziel ist der PositivePrice."
   ]
  },
  {
   "cell_type": "code",
   "execution_count": null,
   "id": "533f65eb",
   "metadata": {},
   "outputs": [],
   "source": [
    "\n",
    "from sklearn.model_selection import train_test_split\n",
    "from sklearn.metrics import mean_absolute_error\n",
    "from sklearn.ensemble import GradientBoostingRegressor\n",
    "\n",
    "X = features[['hour', 'weekday', 'month', 'dayofyear', 'lag_price', 'rolling_mean_24h', 'rolling_std_24h']].dropna()\n",
    "y = features.loc[X.index, 'PositivePrice']\n",
    "X_train, X_test, y_train, y_test = train_test_split(X, y, test_size=0.2, shuffle=False)\n",
    "model = GradientBoostingRegressor()\n",
    "model.fit(X_train, y_train)\n",
    "y_pred = model.predict(X_test)\n",
    "print('MAE:', mean_absolute_error(y_test, y_pred))\n"
   ]
  },
  {
   "cell_type": "markdown",
   "id": "af01d614",
   "metadata": {},
   "source": [
    "Das Notebook stellt damit eine erste Vorlage dar, die nach Verf\u00fcgbarkeit echter Daten weiter ausgebaut werden kann."
   ]
  }
 ],
 "metadata": {},
 "nbformat": 4,
 "nbformat_minor": 5
}
